{
  "cells": [
    {
      "cell_type": "markdown",
      "metadata": {},
      "source": [
        "<a target=\"_blank\" href=\"https://colab.research.google.com/github/Techtonique/learningmachine_python/blob/main/learningmachine/demo/thierrymoudiki_20240508_calib.ipynb\">\n",
        "  <img src=\"https://colab.research.google.com/assets/colab-badge.svg\" alt=\"Open In Colab\"/>\n",
        "</a>"
      ]
    },
    {
      "cell_type": "markdown",
      "metadata": {
        "id": "8nWPtVl0P3yQ"
      },
      "source": [
        "# 0 - Install and load packages"
      ]
    },
    {
      "cell_type": "code",
      "execution_count": 16,
      "metadata": {
        "id": "cycaS7xTKEQe"
      },
      "outputs": [],
      "source": [
        "#%load_ext rpy2.ipython # Load R magic only if necessary (if pip install below doesn't work)"
      ]
    },
    {
      "cell_type": "code",
      "execution_count": 17,
      "metadata": {
        "id": "qii4XnXYEIde"
      },
      "outputs": [],
      "source": [
        "#%%R # Install the learningmachine package only if necessary (if pip install below doesn't work)\n",
        "\n",
        "#utils::install.packages(\"c('remotes', 'ranger')\")\n",
        "#remotes::install_github(\"Techtonique/learningmachine\")"
      ]
    },
    {
      "cell_type": "code",
      "execution_count": null,
      "metadata": {},
      "outputs": [],
      "source": []
    },
    {
      "cell_type": "code",
      "execution_count": 18,
      "metadata": {
        "id": "WdGw83d_8ONP"
      },
      "outputs": [
        {
          "name": "stdout",
          "output_type": "stream",
          "text": [
            "Using pip 24.0 from /Users/t/Documents/Python_Packages/learningmachine/venv/lib/python3.11/site-packages/pip (python 3.11)\n",
            "Processing /Users/t/Documents/Python_Packages/learningmachine\n",
            "  Preparing metadata (setup.py) ... \u001b[?25l  Running command python setup.py egg_info\n",
            "  /usr/local/bin/R\n",
            "  R is already installed on macOS.\n",
            "  No installation needed.\n",
            "  Erreur : objet 'devtools' introuvable\n",
            "  Exécution arrêtée\n",
            "  Erreur dans contrib.url(repos, \"source\") :\n",
            "    essai d'utilisation de CRAN sans fixer un miroir\n",
            "  Appels : <Anonymous> -> contrib.url\n",
            "  Exécution arrêtée\n",
            "  essai de l'URL 'https://techtonique.r-universe.dev/bin/macosx/big-sur-x86_64/contrib/4.3/learningmachine_1.1.0.tgz'\n",
            "  Content type 'application/x-gzip' length 1638215 bytes (1.6 MB)\n",
            "  ==================================================\n",
            "  downloaded 1.6 MB\n",
            "\n",
            "\n",
            "  Les packages binaires téléchargés sont dans\n",
            "        /var/folders/cp/q8d6040n3m38d22z3hkk1zc40000gn/T//Rtmp0kSdk3/downloaded_packages\n",
            "  Requirement already satisfied: rpy2 in ./venv/lib/python3.11/site-packages (3.5.16)\n",
            "  Requirement already satisfied: cffi>=1.15.1 in ./venv/lib/python3.11/site-packages (from rpy2) (1.16.0)\n",
            "  Requirement already satisfied: jinja2 in ./venv/lib/python3.11/site-packages (from rpy2) (3.1.4)\n",
            "  Requirement already satisfied: tzlocal in ./venv/lib/python3.11/site-packages (from rpy2) (5.2)\n",
            "  Requirement already satisfied: pycparser in ./venv/lib/python3.11/site-packages (from cffi>=1.15.1->rpy2) (2.22)\n",
            "  Requirement already satisfied: MarkupSafe>=2.0 in ./venv/lib/python3.11/site-packages (from jinja2->rpy2) (2.1.5)\n",
            "  running egg_info\n",
            "  creating /private/var/folders/cp/q8d6040n3m38d22z3hkk1zc40000gn/T/pip-pip-egg-info-oylrn5bo/learningmachine.egg-info\n",
            "  writing /private/var/folders/cp/q8d6040n3m38d22z3hkk1zc40000gn/T/pip-pip-egg-info-oylrn5bo/learningmachine.egg-info/PKG-INFO\n",
            "  writing dependency_links to /private/var/folders/cp/q8d6040n3m38d22z3hkk1zc40000gn/T/pip-pip-egg-info-oylrn5bo/learningmachine.egg-info/dependency_links.txt\n",
            "  writing requirements to /private/var/folders/cp/q8d6040n3m38d22z3hkk1zc40000gn/T/pip-pip-egg-info-oylrn5bo/learningmachine.egg-info/requires.txt\n",
            "  writing top-level names to /private/var/folders/cp/q8d6040n3m38d22z3hkk1zc40000gn/T/pip-pip-egg-info-oylrn5bo/learningmachine.egg-info/top_level.txt\n",
            "  writing manifest file '/private/var/folders/cp/q8d6040n3m38d22z3hkk1zc40000gn/T/pip-pip-egg-info-oylrn5bo/learningmachine.egg-info/SOURCES.txt'\n",
            "  reading manifest file '/private/var/folders/cp/q8d6040n3m38d22z3hkk1zc40000gn/T/pip-pip-egg-info-oylrn5bo/learningmachine.egg-info/SOURCES.txt'\n",
            "  reading manifest template 'MANIFEST.in'\n",
            "  warning: no files found matching 'README.rst'\n",
            "  warning: no previously-included files matching '__pycache__' found under directory '*'\n",
            "  warning: no previously-included files matching '*.py[co]' found under directory '*'\n",
            "  warning: no files found matching '*.jpg' under directory 'docs'\n",
            "  warning: no files found matching '*.png' under directory 'docs'\n",
            "  warning: no files found matching '*.gif' under directory 'docs'\n",
            "  adding license file 'LICENSE'\n",
            "  writing manifest file '/private/var/folders/cp/q8d6040n3m38d22z3hkk1zc40000gn/T/pip-pip-egg-info-oylrn5bo/learningmachine.egg-info/SOURCES.txt'\n",
            "\u001b[?25hdone\n",
            "Requirement already satisfied: numpy in /Users/t/Documents/Python_Packages/learningmachine/venv/lib/python3.11/site-packages (from learningmachine==1.2.0) (1.26.4)\n",
            "Requirement already satisfied: pandas in /Users/t/Documents/Python_Packages/learningmachine/venv/lib/python3.11/site-packages (from learningmachine==1.2.0) (2.2.2)\n",
            "Requirement already satisfied: rpy2>=3.4.5 in /Users/t/Documents/Python_Packages/learningmachine/venv/lib/python3.11/site-packages (from learningmachine==1.2.0) (3.5.16)\n",
            "Requirement already satisfied: scikit-learn in /Users/t/Documents/Python_Packages/learningmachine/venv/lib/python3.11/site-packages (from learningmachine==1.2.0) (1.4.2)\n",
            "Requirement already satisfied: scipy in /Users/t/Documents/Python_Packages/learningmachine/venv/lib/python3.11/site-packages (from learningmachine==1.2.0) (1.13.0)\n",
            "Requirement already satisfied: cffi>=1.15.1 in /Users/t/Documents/Python_Packages/learningmachine/venv/lib/python3.11/site-packages (from rpy2>=3.4.5->learningmachine==1.2.0) (1.16.0)\n",
            "Requirement already satisfied: jinja2 in /Users/t/Documents/Python_Packages/learningmachine/venv/lib/python3.11/site-packages (from rpy2>=3.4.5->learningmachine==1.2.0) (3.1.4)\n",
            "Requirement already satisfied: tzlocal in /Users/t/Documents/Python_Packages/learningmachine/venv/lib/python3.11/site-packages (from rpy2>=3.4.5->learningmachine==1.2.0) (5.2)\n",
            "Requirement already satisfied: python-dateutil>=2.8.2 in /Users/t/Documents/Python_Packages/learningmachine/venv/lib/python3.11/site-packages (from pandas->learningmachine==1.2.0) (2.9.0.post0)\n",
            "Requirement already satisfied: pytz>=2020.1 in /Users/t/Documents/Python_Packages/learningmachine/venv/lib/python3.11/site-packages (from pandas->learningmachine==1.2.0) (2024.1)\n",
            "Requirement already satisfied: tzdata>=2022.7 in /Users/t/Documents/Python_Packages/learningmachine/venv/lib/python3.11/site-packages (from pandas->learningmachine==1.2.0) (2024.1)\n",
            "Requirement already satisfied: joblib>=1.2.0 in /Users/t/Documents/Python_Packages/learningmachine/venv/lib/python3.11/site-packages (from scikit-learn->learningmachine==1.2.0) (1.4.2)\n",
            "Requirement already satisfied: threadpoolctl>=2.0.0 in /Users/t/Documents/Python_Packages/learningmachine/venv/lib/python3.11/site-packages (from scikit-learn->learningmachine==1.2.0) (3.5.0)\n",
            "Requirement already satisfied: pycparser in /Users/t/Documents/Python_Packages/learningmachine/venv/lib/python3.11/site-packages (from cffi>=1.15.1->rpy2>=3.4.5->learningmachine==1.2.0) (2.22)\n",
            "Requirement already satisfied: six>=1.5 in /Users/t/Documents/Python_Packages/learningmachine/venv/lib/python3.11/site-packages (from python-dateutil>=2.8.2->pandas->learningmachine==1.2.0) (1.16.0)\n",
            "Requirement already satisfied: MarkupSafe>=2.0 in /Users/t/Documents/Python_Packages/learningmachine/venv/lib/python3.11/site-packages (from jinja2->rpy2>=3.4.5->learningmachine==1.2.0) (2.1.5)\n",
            "Building wheels for collected packages: learningmachine\n",
            "  Building wheel for learningmachine (setup.py) ... \u001b[?25l  Running command python setup.py bdist_wheel\n",
            "  /usr/local/bin/R\n",
            "  R is already installed on macOS.\n",
            "  No installation needed.\n",
            "  Erreur : objet 'devtools' introuvable\n",
            "  Exécution arrêtée\n",
            "  Erreur dans contrib.url(repos, \"source\") :\n",
            "    essai d'utilisation de CRAN sans fixer un miroir\n",
            "  Appels : <Anonymous> -> contrib.url\n",
            "  Exécution arrêtée\n",
            "  essai de l'URL 'https://techtonique.r-universe.dev/bin/macosx/big-sur-x86_64/contrib/4.3/learningmachine_1.1.0.tgz'\n",
            "  Content type 'application/x-gzip' length 1638215 bytes (1.6 MB)\n",
            "  ==================================================\n",
            "  downloaded 1.6 MB\n",
            "\n",
            "\n",
            "  Les packages binaires téléchargés sont dans\n",
            "        /var/folders/cp/q8d6040n3m38d22z3hkk1zc40000gn/T//Rtmp3EwsPY/downloaded_packages\n",
            "  Requirement already satisfied: rpy2 in ./venv/lib/python3.11/site-packages (3.5.16)\n",
            "  Requirement already satisfied: cffi>=1.15.1 in ./venv/lib/python3.11/site-packages (from rpy2) (1.16.0)\n",
            "  Requirement already satisfied: jinja2 in ./venv/lib/python3.11/site-packages (from rpy2) (3.1.4)\n",
            "  Requirement already satisfied: tzlocal in ./venv/lib/python3.11/site-packages (from rpy2) (5.2)\n",
            "  Requirement already satisfied: pycparser in ./venv/lib/python3.11/site-packages (from cffi>=1.15.1->rpy2) (2.22)\n",
            "  Requirement already satisfied: MarkupSafe>=2.0 in ./venv/lib/python3.11/site-packages (from jinja2->rpy2) (2.1.5)\n",
            "  running bdist_wheel\n",
            "  running build\n",
            "  running build_py\n",
            "  copying learningmachine/regression.py -> build/lib/learningmachine\n",
            "  copying learningmachine/classifier.py -> build/lib/learningmachine\n",
            "  copying learningmachine/__init__.py -> build/lib/learningmachine\n",
            "  copying learningmachine/utils.py -> build/lib/learningmachine\n",
            "  copying learningmachine/base.py -> build/lib/learningmachine\n",
            "  running egg_info\n",
            "  writing learningmachine.egg-info/PKG-INFO\n",
            "  writing dependency_links to learningmachine.egg-info/dependency_links.txt\n",
            "  writing requirements to learningmachine.egg-info/requires.txt\n",
            "  writing top-level names to learningmachine.egg-info/top_level.txt\n",
            "  reading manifest file 'learningmachine.egg-info/SOURCES.txt'\n",
            "  reading manifest template 'MANIFEST.in'\n",
            "  warning: no files found matching 'README.rst'\n",
            "  warning: no previously-included files matching '__pycache__' found under directory '*'\n",
            "  warning: no previously-included files matching '*.py[co]' found under directory '*'\n",
            "  warning: no files found matching '*.jpg' under directory 'docs'\n",
            "  warning: no files found matching '*.png' under directory 'docs'\n",
            "  warning: no files found matching '*.gif' under directory 'docs'\n",
            "  adding license file 'LICENSE'\n",
            "  writing manifest file 'learningmachine.egg-info/SOURCES.txt'\n",
            "  /Users/t/Documents/Python_Packages/learningmachine/venv/lib/python3.11/site-packages/setuptools/_distutils/cmd.py:66: SetuptoolsDeprecationWarning: setup.py install is deprecated.\n",
            "  !!\n",
            "\n",
            "          ********************************************************************************\n",
            "          Please avoid running ``setup.py`` directly.\n",
            "          Instead, use pypa/build, pypa/installer or other\n",
            "          standards-based tools.\n",
            "\n",
            "          See https://blog.ganssle.io/articles/2021/10/setup-py-deprecated.html for details.\n",
            "          ********************************************************************************\n",
            "\n",
            "  !!\n",
            "    self.initialize_options()\n",
            "  installing to build/bdist.macosx-14.0-x86_64/wheel\n",
            "  running install\n",
            "  running install_lib\n",
            "  creating build/bdist.macosx-14.0-x86_64/wheel\n",
            "  creating build/bdist.macosx-14.0-x86_64/wheel/learningmachine\n",
            "  copying build/lib/learningmachine/regression.py -> build/bdist.macosx-14.0-x86_64/wheel/learningmachine\n",
            "  copying build/lib/learningmachine/classifier.py -> build/bdist.macosx-14.0-x86_64/wheel/learningmachine\n",
            "  copying build/lib/learningmachine/__init__.py -> build/bdist.macosx-14.0-x86_64/wheel/learningmachine\n",
            "  copying build/lib/learningmachine/utils.py -> build/bdist.macosx-14.0-x86_64/wheel/learningmachine\n",
            "  copying build/lib/learningmachine/base.py -> build/bdist.macosx-14.0-x86_64/wheel/learningmachine\n",
            "  running install_egg_info\n",
            "  Copying learningmachine.egg-info to build/bdist.macosx-14.0-x86_64/wheel/learningmachine-1.2.0-py3.11.egg-info\n",
            "  running install_scripts\n",
            "  creating build/bdist.macosx-14.0-x86_64/wheel/learningmachine-1.2.0.dist-info/WHEEL\n",
            "  creating '/private/var/folders/cp/q8d6040n3m38d22z3hkk1zc40000gn/T/pip-wheel-8ga2yfr5/learningmachine-1.2.0-py2.py3-none-any.whl' and adding 'build/bdist.macosx-14.0-x86_64/wheel' to it\n",
            "  adding 'learningmachine/__init__.py'\n",
            "  adding 'learningmachine/base.py'\n",
            "  adding 'learningmachine/classifier.py'\n",
            "  adding 'learningmachine/regression.py'\n",
            "  adding 'learningmachine/utils.py'\n",
            "  adding 'learningmachine-1.2.0.dist-info/LICENSE'\n",
            "  adding 'learningmachine-1.2.0.dist-info/METADATA'\n",
            "  adding 'learningmachine-1.2.0.dist-info/WHEEL'\n",
            "  adding 'learningmachine-1.2.0.dist-info/top_level.txt'\n",
            "  adding 'learningmachine-1.2.0.dist-info/RECORD'\n",
            "  removing build/bdist.macosx-14.0-x86_64/wheel\n",
            "\u001b[?25hdone\n",
            "  Created wheel for learningmachine: filename=learningmachine-1.2.0-py2.py3-none-any.whl size=8658 sha256=493276f01c2c2c8feb64a1872b915355730e315a02faa178432198d8440f916b\n",
            "  Stored in directory: /private/var/folders/cp/q8d6040n3m38d22z3hkk1zc40000gn/T/pip-ephem-wheel-cache-bewmy34r/wheels/9a/f6/e6/eaa10bf6a267b052f59d805d728d7b3187f97daba3b58c2f1c\n",
            "Successfully built learningmachine\n",
            "Installing collected packages: learningmachine\n",
            "  Attempting uninstall: learningmachine\n",
            "    Found existing installation: learningmachine 1.2.0\n",
            "    Uninstalling learningmachine-1.2.0:\n",
            "      Removing file or directory /Users/t/Documents/Python_Packages/learningmachine/venv/lib/python3.11/site-packages/learningmachine-1.2.0.dist-info/\n",
            "      Removing file or directory /Users/t/Documents/Python_Packages/learningmachine/venv/lib/python3.11/site-packages/learningmachine/\n",
            "      Successfully uninstalled learningmachine-1.2.0\n",
            "Successfully installed learningmachine-1.2.0\n"
          ]
        }
      ],
      "source": [
        "!pip install ../.. --upgrade --no-cache-dir --verbose"
      ]
    },
    {
      "cell_type": "code",
      "execution_count": 19,
      "metadata": {
        "id": "2RekMC5OCVNC"
      },
      "outputs": [],
      "source": [
        "import learningmachine as lm\n",
        "import numpy as np\n",
        "import matplotlib.pyplot as plt\n",
        "\n",
        "from sklearn.datasets import load_breast_cancer, load_wine, load_iris, load_digits\n",
        "from sklearn.model_selection import train_test_split\n",
        "from sklearn.metrics import classification_report\n",
        "from sklearn.metrics import ConfusionMatrixDisplay\n",
        "from time import time"
      ]
    },
    {
      "cell_type": "markdown",
      "metadata": {
        "id": "m8jAa3oSPzmY"
      },
      "source": [
        "# 1 - Adjust classifiers"
      ]
    },
    {
      "cell_type": "markdown",
      "metadata": {},
      "source": [
        "**breast cancer**"
      ]
    },
    {
      "cell_type": "code",
      "execution_count": 20,
      "metadata": {
        "colab": {
          "base_uri": "https://localhost:8080/"
        },
        "id": "hYcjX5Y8Ce7X",
        "outputId": "ff6b3c38-3c2f-498f-ec1e-bf6ec079315a"
      },
      "outputs": [
        {
          "name": "stdout",
          "output_type": "stream",
          "text": [
            "Elapsed time:  0.538240909576416\n",
            "              precision    recall  f1-score   support\n",
            "\n",
            "           0       0.83      0.94      0.88        36\n",
            "           1       0.97      0.91      0.94        78\n",
            "\n",
            "    accuracy                           0.92       114\n",
            "   macro avg       0.90      0.93      0.91       114\n",
            "weighted avg       0.93      0.92      0.92       114\n",
            "\n"
          ]
        },
        {
          "data": {
            "image/png": "[encoded data removed]",
            "text/plain": [
              "<Figure size 640x480 with 2 Axes>"
            ]
          },
          "metadata": {},
          "output_type": "display_data"
        }
      ],
      "source": [
        "fit_obj = lm.Classifier(method = \"ranger\", level=None, nb_hidden=None) # Random Forest\n",
        "dataset = load_breast_cancer()\n",
        "X = dataset.data\n",
        "y = dataset.target\n",
        "\n",
        "X_train, X_test, y_train, y_test = train_test_split(X, y, test_size=0.2,\n",
        "                                                    random_state=13)\n",
        "\n",
        "start = time()\n",
        "fit_obj.fit(X_train, y_train)\n",
        "print(\"Elapsed time: \", time() - start)\n",
        "preds = fit_obj.predict(X_test)\n",
        "score = np.mean(preds.ravel().astype(int) == y_test)\n",
        "\n",
        "print(classification_report(y_test, preds.ravel().astype(int)))\n",
        "\n",
        "ConfusionMatrixDisplay.from_predictions(y_test, preds.ravel().astype(int))\n",
        "plt.show()"
      ]
    },
    {
      "cell_type": "code",
      "execution_count": 21,
      "metadata": {},
      "outputs": [
        {
          "ename": "TypeError",
          "evalue": "Base.summary() got an unexpected keyword argument 'class_index'",
          "output_type": "error",
          "traceback": [
            "\u001b[0;31m---------------------------------------------------------------------------\u001b[0m",
            "\u001b[0;31mTypeError\u001b[0m                                 Traceback (most recent call last)",
            "Cell \u001b[0;32mIn[21], line 1\u001b[0m\n\u001b[0;32m----> 1\u001b[0m \u001b[43mfit_obj\u001b[49m\u001b[38;5;241;43m.\u001b[39;49m\u001b[43msummary\u001b[49m\u001b[43m(\u001b[49m\u001b[43mX\u001b[49m\u001b[38;5;241;43m=\u001b[39;49m\u001b[43mX_test\u001b[49m\u001b[43m,\u001b[49m\n\u001b[1;32m      2\u001b[0m \u001b[43m                \u001b[49m\u001b[43my\u001b[49m\u001b[38;5;241;43m=\u001b[39;49m\u001b[43my_test\u001b[49m\u001b[43m,\u001b[49m\u001b[43m \u001b[49m\n\u001b[1;32m      3\u001b[0m \u001b[43m                \u001b[49m\u001b[43mclass_index\u001b[49m\u001b[43m \u001b[49m\u001b[38;5;241;43m=\u001b[39;49m\u001b[43m \u001b[49m\u001b[38;5;241;43m0\u001b[39;49m\u001b[43m,\u001b[49m\u001b[43m   \u001b[49m\n\u001b[1;32m      4\u001b[0m \u001b[43m                \u001b[49m\u001b[43mlevel\u001b[49m\u001b[43m \u001b[49m\u001b[38;5;241;43m=\u001b[39;49m\u001b[43m \u001b[49m\u001b[38;5;241;43m95\u001b[39;49m\u001b[43m,\u001b[49m\u001b[43m)\u001b[49m\n",
            "\u001b[0;31mTypeError\u001b[0m: Base.summary() got an unexpected keyword argument 'class_index'"
          ]
        }
      ],
      "source": [
        "fit_obj.summary(X=X_test,\n",
        "                y=y_test, \n",
        "                class_index = 0,   \n",
        "                level = 95,)"
      ]
    },
    {
      "cell_type": "code",
      "execution_count": null,
      "metadata": {
        "colab": {
          "base_uri": "https://localhost:8080/"
        },
        "id": "8Y49a2eCKUBG",
        "outputId": "70f3cd88-3995-4eb2-ae76-a8326c584c6b"
      },
      "outputs": [],
      "source": [
        "fit_obj = lm.Classifier(method = \"ranger\", level=None, nb_hidden=25) # Random Forest\n",
        "dataset = load_breast_cancer()\n",
        "X = dataset.data\n",
        "y = dataset.target\n",
        "\n",
        "X_train, X_test, y_train, y_test = train_test_split(X, y, test_size=0.2,\n",
        "                                                    random_state=13)\n",
        "\n",
        "start = time()\n",
        "fit_obj.fit(X_train, y_train)\n",
        "print(\"Elapsed time: \", time() - start)\n",
        "score = np.mean(fit_obj.predict(X_test).ravel().astype(int) == y_test)\n",
        "\n",
        "print(classification_report(y_test, preds.ravel().astype(int)))\n",
        "\n",
        "ConfusionMatrixDisplay.from_predictions(y_test, preds.ravel().astype(int))\n",
        "plt.show()"
      ]
    },
    {
      "cell_type": "code",
      "execution_count": null,
      "metadata": {
        "colab": {
          "base_uri": "https://localhost:8080/"
        },
        "id": "hRjbSeb4KUzk",
        "outputId": "89abb8f1-3a15-494d-b412-a520e6c7dda0"
      },
      "outputs": [],
      "source": [
        "fit_obj = lm.Classifier(method = \"ranger\", level=95, nb_hidden=0) # Random Forest\n",
        "dataset = load_breast_cancer()\n",
        "X = dataset.data\n",
        "y = dataset.target\n",
        "\n",
        "X_train, X_test, y_train, y_test = train_test_split(X, y, test_size=0.2,\n",
        "                                                    random_state=13)\n",
        "\n",
        "start = time()\n",
        "fit_obj.fit(X_train, y_train)\n",
        "print(\"Elapsed time: \", time() - start)\n",
        "preds = fit_obj.predict(X_test)\n",
        "score = np.mean(preds.ravel().astype(int) == y_test)\n",
        "\n",
        "print(classification_report(y_test, preds.ravel().astype(int)))\n",
        "\n",
        "ConfusionMatrixDisplay.from_predictions(y_test, preds.ravel().astype(int))\n",
        "plt.show()"
      ]
    },
    {
      "cell_type": "code",
      "execution_count": null,
      "metadata": {
        "colab": {
          "base_uri": "https://localhost:8080/"
        },
        "id": "du7jvdFEKXFX",
        "outputId": "7567fe0c-2f6b-4f60-8ede-0090213d4cbd"
      },
      "outputs": [],
      "source": [
        "fit_obj = lm.Classifier(method = \"ranger\", level=95, nb_hidden=25) # Random Forest\n",
        "dataset = load_breast_cancer()\n",
        "X = dataset.data\n",
        "y = dataset.target\n",
        "\n",
        "X_train, X_test, y_train, y_test = train_test_split(X, y, test_size=0.2,\n",
        "                                                    random_state=13)\n",
        "\n",
        "start = time()\n",
        "fit_obj.fit(X_train, y_train)\n",
        "print(\"Elapsed time: \", time() - start)\n",
        "preds = fit_obj.predict(X_test)\n",
        "score = np.mean(preds.ravel().astype(int) == y_test)\n",
        "\n",
        "print(classification_report(y_test, preds.ravel().astype(int)))\n",
        "\n",
        "ConfusionMatrixDisplay.from_predictions(y_test, preds.ravel().astype(int))\n",
        "plt.show()"
      ]
    },
    {
      "cell_type": "code",
      "execution_count": null,
      "metadata": {},
      "outputs": [],
      "source": [
        "fit_obj = lm.Classifier(method = \"krr\", level=95, nb_hidden=25) # Kernel Ridge Regression\n",
        "dataset = load_breast_cancer()\n",
        "X = dataset.data\n",
        "y = dataset.target\n",
        "\n",
        "X_train, X_test, y_train, y_test = train_test_split(X, y, test_size=0.2,\n",
        "                                                    random_state=13)\n",
        "\n",
        "start = time()\n",
        "fit_obj.fit(X_train, y_train)\n",
        "print(\"Elapsed time: \", time() - start)\n",
        "preds = fit_obj.predict(X_test)\n",
        "score = np.mean(preds.ravel().astype(int) == y_test)\n",
        "\n",
        "print(classification_report(y_test, preds.ravel().astype(int)))\n",
        "\n",
        "ConfusionMatrixDisplay.from_predictions(y_test, preds.ravel().astype(int))\n",
        "plt.show()"
      ]
    },
    {
      "cell_type": "markdown",
      "metadata": {},
      "source": [
        "**iris**"
      ]
    },
    {
      "cell_type": "code",
      "execution_count": null,
      "metadata": {},
      "outputs": [],
      "source": [
        "dataset = load_iris()\n",
        "X = dataset.data\n",
        "y = dataset.target\n",
        "\n",
        "X_train, X_test, y_train, y_test = train_test_split(X, y, test_size=0.2,\n",
        "                                                    random_state=13)\n",
        "\n",
        "fit_obj = lm.Classifier(method = \"ranger\", level=None, nb_hidden=None) # Random Forest\n",
        "start = time()\n",
        "fit_obj.fit(X_train, y_train)\n",
        "print(\"Elapsed time: \", time() - start)\n",
        "preds = fit_obj.predict(X_test)\n",
        "score = np.mean(preds.ravel().astype(int) == y_test)\n",
        "print(classification_report(y_test, preds.ravel().astype(int)))\n",
        "ConfusionMatrixDisplay.from_predictions(y_test, preds.ravel().astype(int))\n",
        "plt.show()\n",
        "\n",
        "\n",
        "fit_obj = lm.Classifier(method = \"ranger\", level=None, nb_hidden=25)\n",
        "start = time()\n",
        "fit_obj.fit(X_train, y_train)\n",
        "print(\"Elapsed time: \", time() - start)\n",
        "score = np.mean(fit_obj.predict(X_test).ravel().astype(int) == y_test)\n",
        "print(classification_report(y_test, preds.ravel().astype(int)))\n",
        "ConfusionMatrixDisplay.from_predictions(y_test, preds.ravel().astype(int))\n",
        "plt.show()\n",
        "\n",
        "fit_obj = lm.Classifier(method = \"ranger\", level=95, nb_hidden=0) # Random Forest\n",
        "start = time()\n",
        "fit_obj.fit(X_train, y_train)\n",
        "print(\"Elapsed time: \", time() - start)\n",
        "preds = fit_obj.predict(X_test)\n",
        "score = np.mean(preds.ravel().astype(int) == y_test)\n",
        "print(classification_report(y_test, preds.ravel().astype(int)))\n",
        "ConfusionMatrixDisplay.from_predictions(y_test, preds.ravel().astype(int))\n",
        "plt.show()\n",
        "\n",
        "fit_obj = lm.Classifier(method = \"ranger\", level=95, nb_hidden=25) # Random Forest\n",
        "start = time()\n",
        "fit_obj.fit(X_train, y_train)\n",
        "print(\"Elapsed time: \", time() - start)\n",
        "preds = fit_obj.predict(X_test)\n",
        "score = np.mean(preds.ravel().astype(int) == y_test)\n",
        "print(classification_report(y_test, preds.ravel().astype(int)))\n",
        "ConfusionMatrixDisplay.from_predictions(y_test, preds.ravel().astype(int))\n",
        "plt.show()"
      ]
    },
    {
      "cell_type": "code",
      "execution_count": null,
      "metadata": {},
      "outputs": [],
      "source": [
        "fit_obj = lm.Classifier(method = \"krr\", level=95, nb_hidden=25) # Kernel Ridge Regression\n",
        "start = time()\n",
        "fit_obj.fit(X_train, y_train)\n",
        "print(\"Elapsed time: \", time() - start)\n",
        "preds = fit_obj.predict(X_test)\n",
        "score = np.mean(preds.ravel().astype(int) == y_test)\n",
        "print(classification_report(y_test, preds.ravel().astype(int)))\n",
        "ConfusionMatrixDisplay.from_predictions(y_test, preds.ravel().astype(int))\n",
        "plt.show()"
      ]
    },
    {
      "cell_type": "markdown",
      "metadata": {},
      "source": [
        "**wine**"
      ]
    },
    {
      "cell_type": "code",
      "execution_count": null,
      "metadata": {},
      "outputs": [],
      "source": [
        "dataset = load_wine()\n",
        "X = dataset.data\n",
        "y = dataset.target\n",
        "\n",
        "X_train, X_test, y_train, y_test = train_test_split(X, y, test_size=0.2,\n",
        "                                                    random_state=13)\n",
        "\n",
        "fit_obj = lm.Classifier(method = \"ranger\", level=None, nb_hidden=None) # Random Forest\n",
        "start = time()\n",
        "fit_obj.fit(X_train, y_train)\n",
        "print(\"Elapsed time: \", time() - start)\n",
        "preds = fit_obj.predict(X_test)\n",
        "score = np.mean(preds.ravel().astype(int) == y_test)\n",
        "print(classification_report(y_test, preds.ravel().astype(int)))\n",
        "\n",
        "\n",
        "fit_obj = lm.Classifier(method = \"ranger\", level=None, nb_hidden=25) # Random Forest\n",
        "start = time()\n",
        "fit_obj.fit(X_train, y_train)\n",
        "print(\"Elapsed time: \", time() - start)\n",
        "score = np.mean(fit_obj.predict(X_test).ravel().astype(int) == y_test)\n",
        "print(classification_report(y_test, preds.ravel().astype(int)))\n",
        "\n",
        "fit_obj = lm.Classifier(method = \"ranger\", level=95, nb_hidden=0) # Random Forest\n",
        "start = time()\n",
        "fit_obj.fit(X_train, y_train)\n",
        "print(\"Elapsed time: \", time() - start)\n",
        "preds = fit_obj.predict(X_test)\n",
        "score = np.mean(preds.ravel().astype(int) == y_test)\n",
        "print(classification_report(y_test, preds.ravel().astype(int)))\n",
        "\n",
        "fit_obj = lm.Classifier(method = \"ranger\", level=95, nb_hidden=25) # Random Forest\n",
        "start = time()\n",
        "fit_obj.fit(X_train, y_train)\n",
        "print(\"Elapsed time: \", time() - start)\n",
        "preds = fit_obj.predict(X_test)\n",
        "score = np.mean(preds.ravel().astype(int) == y_test)\n",
        "print(classification_report(y_test, preds.ravel().astype(int)))\n",
        "ConfusionMatrixDisplay.from_predictions(y_test, preds.ravel().astype(int))\n",
        "plt.show()"
      ]
    },
    {
      "cell_type": "code",
      "execution_count": null,
      "metadata": {},
      "outputs": [],
      "source": [
        "fit_obj = lm.Classifier(method = \"krr\", level=95, nb_hidden=25) # Kernel Ridge Regression\n",
        "start = time()\n",
        "fit_obj.fit(X_train, y_train)\n",
        "print(\"Elapsed time: \", time() - start)\n",
        "preds = fit_obj.predict(X_test)\n",
        "score = np.mean(preds.ravel().astype(int) == y_test)\n",
        "print(classification_report(y_test, preds.ravel().astype(int)))\n",
        "ConfusionMatrixDisplay.from_predictions(y_test, preds.ravel().astype(int))\n",
        "plt.show()"
      ]
    }
  ],
  "metadata": {
    "colab": {
      "provenance": []
    },
    "kernelspec": {
      "display_name": "Python 3",
      "name": "python3"
    },
    "language_info": {
      "codemirror_mode": {
        "name": "ipython",
        "version": 3
      },
      "file_extension": ".py",
      "mimetype": "text/x-python",
      "name": "python",
      "nbconvert_exporter": "python",
      "pygments_lexer": "ipython3",
      "version": "3.11.8"
    }
  },
  "nbformat": 4,
  "nbformat_minor": 0
}
