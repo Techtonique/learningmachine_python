{
 "cells": [
  {
   "cell_type": "code",
   "execution_count": null,
   "metadata": {},
   "outputs": [],
   "source": [
    "\n",
    "\n",
    "\n"
   ]
  },
  {
   "cell_type": "markdown",
   "metadata": {},
   "source": [
    "# Install packages"
   ]
  },
  {
   "cell_type": "code",
   "execution_count": 54,
   "metadata": {},
   "outputs": [
    {
     "name": "stdout",
     "output_type": "stream",
     "text": [
      "Using pip 24.0 from /Users/t/Documents/Python_Packages/learningmachine/venv/lib/python3.11/site-packages/pip (python 3.11)\n",
      "Processing /Users/t/Documents/Python_Packages/learningmachine\n",
      "  Preparing metadata (setup.py) ... \u001b[?25l  Running command python setup.py egg_info\n",
      "  Requirement already satisfied: rpy2 in ./venv/lib/python3.11/site-packages (3.5.16)\n",
      "  Requirement already satisfied: cffi>=1.15.1 in ./venv/lib/python3.11/site-packages (from rpy2) (1.16.0)\n",
      "  Requirement already satisfied: jinja2 in ./venv/lib/python3.11/site-packages (from rpy2) (3.1.3)\n",
      "  Requirement already satisfied: tzlocal in ./venv/lib/python3.11/site-packages (from rpy2) (5.2)\n",
      "  Requirement already satisfied: pycparser in ./venv/lib/python3.11/site-packages (from cffi>=1.15.1->rpy2) (2.22)\n",
      "  Requirement already satisfied: MarkupSafe>=2.0 in ./venv/lib/python3.11/site-packages (from jinja2->rpy2) (2.1.5)\n",
      "  Requirement already satisfied: setuptools in ./venv/lib/python3.11/site-packages (69.1.1)\n",
      "  Unable to determine R home: [Errno 2] No such file or directory: 'R'\n",
      "  Traceback (most recent call last):\n",
      "    File \"<string>\", line 2, in <module>\n",
      "    File \"<pip-setuptools-caller>\", line 34, in <module>\n",
      "    File \"/Users/t/Documents/Python_Packages/learningmachine/setup.py\", line 160, in <module>\n",
      "      from rpy2.robjects.packages import importr\n",
      "    File \"/Users/t/Documents/Python_Packages/learningmachine/venv/lib/python3.11/site-packages/rpy2/robjects/__init__.py\", line 21, in <module>\n",
      "      from rpy2.robjects.robject import RObjectMixin, RObject\n",
      "    File \"/Users/t/Documents/Python_Packages/learningmachine/venv/lib/python3.11/site-packages/rpy2/robjects/robject.py\", line 11, in <module>\n",
      "      rpy2.rinterface.initr_simple()\n",
      "    File \"/Users/t/Documents/Python_Packages/learningmachine/venv/lib/python3.11/site-packages/rpy2/rinterface.py\", line 1050, in initr_simple\n",
      "      status = embedded._initr()\n",
      "               ^^^^^^^^^^^^^^^^^\n",
      "    File \"/Users/t/Documents/Python_Packages/learningmachine/venv/lib/python3.11/site-packages/rpy2/rinterface_lib/embedded.py\", line 272, in _initr\n",
      "      raise ValueError('openrlib.R_HOME cannot be None.')\n",
      "  ValueError: openrlib.R_HOME cannot be None.\n",
      "  \u001b[1;31merror\u001b[0m: \u001b[1msubprocess-exited-with-error\u001b[0m\n",
      "  \n",
      "  \u001b[31m×\u001b[0m \u001b[32mpython setup.py egg_info\u001b[0m did not run successfully.\n",
      "  \u001b[31m│\u001b[0m exit code: \u001b[1;36m1\u001b[0m\n",
      "  \u001b[31m╰─>\u001b[0m See above for output.\n",
      "  \n",
      "  \u001b[1;35mnote\u001b[0m: This error originates from a subprocess, and is likely not a problem with pip.\n",
      "  \u001b[1;35mfull command\u001b[0m: \u001b[34m/Users/t/Documents/Python_Packages/learningmachine/venv/bin/python -c '\u001b[0m\n",
      "\u001b[34m  exec(compile('\"'\"''\"'\"''\"'\"'\u001b[0m\n",
      "\u001b[34m  # This is <pip-setuptools-caller> -- a caller that pip uses to run setup.py\u001b[0m\n",
      "\u001b[34m  #\u001b[0m\n",
      "\u001b[34m  # - It imports setuptools before invoking setup.py, to enable projects that directly\u001b[0m\n",
      "\u001b[34m  #   import from `distutils.core` to work with newer packaging standards.\u001b[0m\n",
      "\u001b[34m  # - It provides a clear error message when setuptools is not installed.\u001b[0m\n",
      "\u001b[34m  # - It sets `sys.argv[0]` to the underlying `setup.py`, when invoking `setup.py` so\u001b[0m\n",
      "\u001b[34m  #   setuptools doesn'\"'\"'t think the script is `-c`. This avoids the following warning:\u001b[0m\n",
      "\u001b[34m  #     manifest_maker: standard file '\"'\"'-c'\"'\"' not found\".\u001b[0m\n",
      "\u001b[34m  # - It generates a shim setup.py, for handling setup.cfg-only projects.\u001b[0m\n",
      "\u001b[34m  import os, sys, tokenize\u001b[0m\n",
      "\u001b[34m  \u001b[0m\n",
      "\u001b[34m  try:\u001b[0m\n",
      "\u001b[34m      import setuptools\u001b[0m\n",
      "\u001b[34m  except ImportError as error:\u001b[0m\n",
      "\u001b[34m      print(\u001b[0m\n",
      "\u001b[34m          \"ERROR: Can not execute `setup.py` since setuptools is not available in \"\u001b[0m\n",
      "\u001b[34m          \"the build environment.\",\u001b[0m\n",
      "\u001b[34m          file=sys.stderr,\u001b[0m\n",
      "\u001b[34m      )\u001b[0m\n",
      "\u001b[34m      sys.exit(1)\u001b[0m\n",
      "\u001b[34m  \u001b[0m\n",
      "\u001b[34m  __file__ = %r\u001b[0m\n",
      "\u001b[34m  sys.argv[0] = __file__\u001b[0m\n",
      "\u001b[34m  \u001b[0m\n",
      "\u001b[34m  if os.path.exists(__file__):\u001b[0m\n",
      "\u001b[34m      filename = __file__\u001b[0m\n",
      "\u001b[34m      with tokenize.open(__file__) as f:\u001b[0m\n",
      "\u001b[34m          setup_py_code = f.read()\u001b[0m\n",
      "\u001b[34m  else:\u001b[0m\n",
      "\u001b[34m      filename = \"<auto-generated setuptools caller>\"\u001b[0m\n",
      "\u001b[34m      setup_py_code = \"from setuptools import setup; setup()\"\u001b[0m\n",
      "\u001b[34m  \u001b[0m\n",
      "\u001b[34m  exec(compile(setup_py_code, filename, \"exec\"))\u001b[0m\n",
      "\u001b[34m  '\"'\"''\"'\"''\"'\"' % ('\"'\"'/Users/t/Documents/Python_Packages/learningmachine/setup.py'\"'\"',), \"<pip-setuptools-caller>\", \"exec\"))' egg_info --egg-base /private/var/folders/cp/q8d6040n3m38d22z3hkk1zc40000gn/T/pip-pip-egg-info-ec23jke3\u001b[0m\n",
      "  \u001b[1;35mcwd\u001b[0m: /Users/t/Documents/Python_Packages/learningmachine/\n",
      "\u001b[?25herror\n",
      "\u001b[1;31merror\u001b[0m: \u001b[1mmetadata-generation-failed\u001b[0m\n",
      "\n",
      "\u001b[31m×\u001b[0m Encountered error while generating package metadata.\n",
      "\u001b[31m╰─>\u001b[0m See above for output.\n",
      "\n",
      "\u001b[1;35mnote\u001b[0m: This is an issue with the package mentioned above, not pip.\n",
      "\u001b[1;36mhint\u001b[0m: See above for details.\n"
     ]
    }
   ],
   "source": [
    "!pip3 install ../.. --verbose --upgrade --no-cache-dir"
   ]
  },
  {
   "cell_type": "markdown",
   "metadata": {},
   "source": [
    "# 1 - Classification"
   ]
  },
  {
   "cell_type": "code",
   "execution_count": 55,
   "metadata": {},
   "outputs": [
    {
     "ename": "ValueError",
     "evalue": "openrlib.R_HOME cannot be None.",
     "output_type": "error",
     "traceback": [
      "\u001b[0;31m---------------------------------------------------------------------------\u001b[0m",
      "\u001b[0;31mValueError\u001b[0m                                Traceback (most recent call last)",
      "Cell \u001b[0;32mIn[55], line 1\u001b[0m\n\u001b[0;32m----> 1\u001b[0m \u001b[38;5;28;01mimport\u001b[39;00m \u001b[38;5;21;01mlearningmachine\u001b[39;00m \u001b[38;5;28;01mas\u001b[39;00m \u001b[38;5;21;01mlm\u001b[39;00m\n\u001b[1;32m      2\u001b[0m \u001b[38;5;28;01mimport\u001b[39;00m \u001b[38;5;21;01mnumpy\u001b[39;00m \u001b[38;5;28;01mas\u001b[39;00m \u001b[38;5;21;01mnp\u001b[39;00m\n\u001b[1;32m      4\u001b[0m \u001b[38;5;28;01mfrom\u001b[39;00m \u001b[38;5;21;01mmath\u001b[39;00m \u001b[38;5;28;01mimport\u001b[39;00m sqrt\n",
      "File \u001b[0;32m~/Documents/Python_Packages/learningmachine/venv/lib/python3.11/site-packages/learningmachine/__init__.py:6\u001b[0m\n\u001b[1;32m      3\u001b[0m __author__ \u001b[38;5;241m=\u001b[39m \u001b[38;5;124m\"\"\"\u001b[39m\u001b[38;5;124mT. Moudiki\u001b[39m\u001b[38;5;124m\"\"\"\u001b[39m\n\u001b[1;32m      4\u001b[0m __email__ \u001b[38;5;241m=\u001b[39m \u001b[38;5;124m\"\u001b[39m\u001b[38;5;124mthierry.moudiki@gmail.com\u001b[39m\u001b[38;5;124m\"\u001b[39m\n\u001b[0;32m----> 6\u001b[0m \u001b[38;5;28;01mfrom\u001b[39;00m \u001b[38;5;21;01m.\u001b[39;00m\u001b[38;5;21;01mbase\u001b[39;00m \u001b[38;5;28;01mimport\u001b[39;00m Base\n\u001b[1;32m      7\u001b[0m \u001b[38;5;28;01mfrom\u001b[39;00m \u001b[38;5;21;01m.\u001b[39;00m\u001b[38;5;21;01mclassifier\u001b[39;00m \u001b[38;5;28;01mimport\u001b[39;00m Classifier\n\u001b[1;32m      8\u001b[0m \u001b[38;5;28;01mfrom\u001b[39;00m \u001b[38;5;21;01m.\u001b[39;00m\u001b[38;5;21;01mregression\u001b[39;00m \u001b[38;5;28;01mimport\u001b[39;00m Regressor\n",
      "File \u001b[0;32m~/Documents/Python_Packages/learningmachine/venv/lib/python3.11/site-packages/learningmachine/base.py:5\u001b[0m\n\u001b[1;32m      3\u001b[0m \u001b[38;5;28;01mfrom\u001b[39;00m \u001b[38;5;21;01mfunctools\u001b[39;00m \u001b[38;5;28;01mimport\u001b[39;00m lru_cache\n\u001b[1;32m      4\u001b[0m \u001b[38;5;28;01mfrom\u001b[39;00m \u001b[38;5;21;01msklearn\u001b[39;00m\u001b[38;5;21;01m.\u001b[39;00m\u001b[38;5;21;01mbase\u001b[39;00m \u001b[38;5;28;01mimport\u001b[39;00m BaseEstimator\n\u001b[0;32m----> 5\u001b[0m \u001b[38;5;28;01mfrom\u001b[39;00m \u001b[38;5;21;01mrpy2\u001b[39;00m\u001b[38;5;21;01m.\u001b[39;00m\u001b[38;5;21;01mrobjects\u001b[39;00m\u001b[38;5;21;01m.\u001b[39;00m\u001b[38;5;21;01mvectors\u001b[39;00m \u001b[38;5;28;01mimport\u001b[39;00m StrVector\n\u001b[1;32m      6\u001b[0m \u001b[38;5;28;01mfrom\u001b[39;00m \u001b[38;5;21;01mrpy2\u001b[39;00m\u001b[38;5;21;01m.\u001b[39;00m\u001b[38;5;21;01mrobjects\u001b[39;00m\u001b[38;5;21;01m.\u001b[39;00m\u001b[38;5;21;01mpackages\u001b[39;00m \u001b[38;5;28;01mimport\u001b[39;00m importr\n\u001b[1;32m      7\u001b[0m \u001b[38;5;28;01mfrom\u001b[39;00m \u001b[38;5;21;01mrpy2\u001b[39;00m\u001b[38;5;21;01m.\u001b[39;00m\u001b[38;5;21;01mrobjects\u001b[39;00m \u001b[38;5;28;01mimport\u001b[39;00m r\n",
      "File \u001b[0;32m~/Documents/Python_Packages/learningmachine/venv/lib/python3.11/site-packages/rpy2/robjects/__init__.py:21\u001b[0m\n\u001b[1;32m     18\u001b[0m \u001b[38;5;28;01mimport\u001b[39;00m \u001b[38;5;21;01mrpy2\u001b[39;00m\u001b[38;5;21;01m.\u001b[39;00m\u001b[38;5;21;01mrinterface_lib\u001b[39;00m\u001b[38;5;21;01m.\u001b[39;00m\u001b[38;5;21;01mopenrlib\u001b[39;00m\n\u001b[1;32m     19\u001b[0m \u001b[38;5;28;01mimport\u001b[39;00m \u001b[38;5;21;01mrpy2\u001b[39;00m\u001b[38;5;21;01m.\u001b[39;00m\u001b[38;5;21;01mrlike\u001b[39;00m\u001b[38;5;21;01m.\u001b[39;00m\u001b[38;5;21;01mcontainer\u001b[39;00m \u001b[38;5;28;01mas\u001b[39;00m \u001b[38;5;21;01mrlc\u001b[39;00m\n\u001b[0;32m---> 21\u001b[0m \u001b[38;5;28;01mfrom\u001b[39;00m \u001b[38;5;21;01mrpy2\u001b[39;00m\u001b[38;5;21;01m.\u001b[39;00m\u001b[38;5;21;01mrobjects\u001b[39;00m\u001b[38;5;21;01m.\u001b[39;00m\u001b[38;5;21;01mrobject\u001b[39;00m \u001b[38;5;28;01mimport\u001b[39;00m RObjectMixin, RObject\n\u001b[1;32m     22\u001b[0m \u001b[38;5;28;01mimport\u001b[39;00m \u001b[38;5;21;01mrpy2\u001b[39;00m\u001b[38;5;21;01m.\u001b[39;00m\u001b[38;5;21;01mrobjects\u001b[39;00m\u001b[38;5;21;01m.\u001b[39;00m\u001b[38;5;21;01mfunctions\u001b[39;00m\n\u001b[1;32m     23\u001b[0m \u001b[38;5;28;01mfrom\u001b[39;00m \u001b[38;5;21;01mrpy2\u001b[39;00m\u001b[38;5;21;01m.\u001b[39;00m\u001b[38;5;21;01mrobjects\u001b[39;00m\u001b[38;5;21;01m.\u001b[39;00m\u001b[38;5;21;01menvironments\u001b[39;00m \u001b[38;5;28;01mimport\u001b[39;00m (Environment,\n\u001b[1;32m     24\u001b[0m                                         local_context)\n",
      "File \u001b[0;32m~/Documents/Python_Packages/learningmachine/venv/lib/python3.11/site-packages/rpy2/robjects/robject.py:11\u001b[0m\n\u001b[1;32m      7\u001b[0m \u001b[38;5;28;01mimport\u001b[39;00m \u001b[38;5;21;01mrpy2\u001b[39;00m\u001b[38;5;21;01m.\u001b[39;00m\u001b[38;5;21;01mrinterface_lib\u001b[39;00m\u001b[38;5;21;01m.\u001b[39;00m\u001b[38;5;21;01mcallbacks\u001b[39;00m\n\u001b[1;32m      9\u001b[0m \u001b[38;5;28;01mfrom\u001b[39;00m \u001b[38;5;21;01mrpy2\u001b[39;00m\u001b[38;5;21;01m.\u001b[39;00m\u001b[38;5;21;01mrobjects\u001b[39;00m \u001b[38;5;28;01mimport\u001b[39;00m conversion\n\u001b[0;32m---> 11\u001b[0m \u001b[43mrpy2\u001b[49m\u001b[38;5;241;43m.\u001b[39;49m\u001b[43mrinterface\u001b[49m\u001b[38;5;241;43m.\u001b[39;49m\u001b[43minitr_simple\u001b[49m\u001b[43m(\u001b[49m\u001b[43m)\u001b[49m\n\u001b[1;32m     14\u001b[0m \u001b[38;5;28;01mdef\u001b[39;00m \u001b[38;5;21m_add_warn_reticulate_hook\u001b[39m():\n\u001b[1;32m     15\u001b[0m     msg \u001b[38;5;241m=\u001b[39m \u001b[38;5;124m\"\"\"\u001b[39m\n\u001b[1;32m     16\u001b[0m \u001b[38;5;124m    WARNING: The R package \u001b[39m\u001b[38;5;124m\"\u001b[39m\u001b[38;5;124mreticulate\u001b[39m\u001b[38;5;124m\"\u001b[39m\u001b[38;5;124m only fixed recently\u001b[39m\n\u001b[1;32m     17\u001b[0m \u001b[38;5;124m    an issue that caused a segfault when used with rpy2:\u001b[39m\n\u001b[0;32m   (...)\u001b[0m\n\u001b[1;32m     20\u001b[0m \u001b[38;5;124m    the fix.\u001b[39m\n\u001b[1;32m     21\u001b[0m \u001b[38;5;124m    \u001b[39m\u001b[38;5;124m\"\"\"\u001b[39m\n",
      "File \u001b[0;32m~/Documents/Python_Packages/learningmachine/venv/lib/python3.11/site-packages/rpy2/rinterface.py:1054\u001b[0m, in \u001b[0;36minitr_simple\u001b[0;34m()\u001b[0m\n\u001b[1;32m   1052\u001b[0m \u001b[38;5;250m\u001b[39m\u001b[38;5;124;03m\"\"\"Initialize R's embedded C library.\"\"\"\u001b[39;00m\n\u001b[1;32m   1053\u001b[0m \u001b[38;5;28;01mwith\u001b[39;00m openrlib\u001b[38;5;241m.\u001b[39mrlock:\n\u001b[0;32m-> 1054\u001b[0m     status \u001b[38;5;241m=\u001b[39m \u001b[43membedded\u001b[49m\u001b[38;5;241;43m.\u001b[39;49m\u001b[43m_initr\u001b[49m\u001b[43m(\u001b[49m\u001b[43m)\u001b[49m\n\u001b[1;32m   1055\u001b[0m     atexit\u001b[38;5;241m.\u001b[39mregister(endr, \u001b[38;5;241m0\u001b[39m)\n\u001b[1;32m   1056\u001b[0m     _rinterface\u001b[38;5;241m.\u001b[39m_register_external_symbols()\n",
      "File \u001b[0;32m~/Documents/Python_Packages/learningmachine/venv/lib/python3.11/site-packages/rpy2/rinterface_lib/embedded.py:272\u001b[0m, in \u001b[0;36m_initr\u001b[0;34m(interactive, _want_setcallbacks, _c_stack_limit)\u001b[0m\n\u001b[1;32m    270\u001b[0m     \u001b[38;5;28;01mreturn\u001b[39;00m \u001b[38;5;28;01mNone\u001b[39;00m\n\u001b[1;32m    271\u001b[0m \u001b[38;5;28;01melif\u001b[39;00m openrlib\u001b[38;5;241m.\u001b[39mR_HOME \u001b[38;5;129;01mis\u001b[39;00m \u001b[38;5;28;01mNone\u001b[39;00m:\n\u001b[0;32m--> 272\u001b[0m     \u001b[38;5;28;01mraise\u001b[39;00m \u001b[38;5;167;01mValueError\u001b[39;00m(\u001b[38;5;124m'\u001b[39m\u001b[38;5;124mopenrlib.R_HOME cannot be None.\u001b[39m\u001b[38;5;124m'\u001b[39m)\n\u001b[1;32m    273\u001b[0m \u001b[38;5;28;01melif\u001b[39;00m openrlib\u001b[38;5;241m.\u001b[39mrlib\u001b[38;5;241m.\u001b[39mR_NilValue \u001b[38;5;241m!=\u001b[39m ffi\u001b[38;5;241m.\u001b[39mNULL:\n\u001b[1;32m    274\u001b[0m     msg \u001b[38;5;241m=\u001b[39m (\u001b[38;5;124m'\u001b[39m\u001b[38;5;124mR was initialized outside of rpy2 (R_NilValue != NULL). \u001b[39m\u001b[38;5;124m'\u001b[39m\n\u001b[1;32m    275\u001b[0m            \u001b[38;5;124m'\u001b[39m\u001b[38;5;124mTrying to use it nevertheless.\u001b[39m\u001b[38;5;124m'\u001b[39m)\n",
      "\u001b[0;31mValueError\u001b[0m: openrlib.R_HOME cannot be None."
     ]
    }
   ],
   "source": [
    "import learningmachine as lm\n",
    "import numpy as np\n",
    "\n",
    "from math import sqrt\n",
    "from sklearn.datasets import load_wine\n",
    "from sklearn.model_selection import train_test_split, cross_val_score\n",
    "from time import time\n",
    "\n",
    "\n",
    "fit_obj = lm.Classifier(method = \"ranger\", nb_hidden=0)\n",
    "dataset = load_wine()\n",
    "X = dataset.data\n",
    "y = dataset.target\n",
    "\n",
    "X_train, X_test, y_train, y_test = train_test_split(X, y, test_size=0.2, \n",
    "                                                    random_state=13)\n",
    "\n",
    "start = time()\n",
    "fit_obj.fit(X_train, y_train)\n",
    "print(\"Elapsed time: \", time() - start)\n",
    "\n",
    "print(dir(fit_obj))\n",
    "print(fit_obj.get_params())\n",
    "\n",
    "## Compute accuracy\n",
    "\n",
    "preds = fit_obj.predict(X_test)\n",
    "acc = np.mean(y_test == preds)\n",
    "print(acc)"
   ]
  },
  {
   "cell_type": "code",
   "execution_count": null,
   "metadata": {},
   "outputs": [
    {
     "name": "stdout",
     "output_type": "stream",
     "text": [
      "[0.94444444 0.94444444 0.97222222 1.         1.        ]\n"
     ]
    }
   ],
   "source": [
    "print(cross_val_score(fit_obj, X, y, cv=5, scoring='accuracy'))"
   ]
  }
 ],
 "metadata": {
  "kernelspec": {
   "display_name": "venv",
   "language": "python",
   "name": "python3"
  },
  "language_info": {
   "codemirror_mode": {
    "name": "ipython",
    "version": 3
   },
   "file_extension": ".py",
   "mimetype": "text/x-python",
   "name": "python",
   "nbconvert_exporter": "python",
   "pygments_lexer": "ipython3",
   "version": "3.11.8"
  }
 },
 "nbformat": 4,
 "nbformat_minor": 2
}
