{
 "cells": [
  {
   "cell_type": "code",
   "execution_count": null,
   "metadata": {},
   "outputs": [],
   "source": [
    "\n",
    "\n",
    "\n"
   ]
  },
  {
   "cell_type": "markdown",
   "metadata": {},
   "source": [
    "# Install packages"
   ]
  },
  {
   "cell_type": "code",
   "execution_count": 12,
   "metadata": {},
   "outputs": [
    {
     "name": "stdout",
     "output_type": "stream",
     "text": [
      "Processing /Users/t/Documents/Python_Packages/learningmachine\n",
      "  Preparing metadata (setup.py) ... \u001b[?25lerror\n",
      "  \u001b[1;31merror\u001b[0m: \u001b[1msubprocess-exited-with-error\u001b[0m\n",
      "  \n",
      "  \u001b[31m×\u001b[0m \u001b[32mpython setup.py egg_info\u001b[0m did not run successfully.\n",
      "  \u001b[31m│\u001b[0m exit code: \u001b[1;36m1\u001b[0m\n",
      "  \u001b[31m╰─>\u001b[0m \u001b[31m[23 lines of output]\u001b[0m\n",
      "  \u001b[31m   \u001b[0m Requirement already satisfied: rpy2 in ./venv/lib/python3.11/site-packages (3.5.16)\n",
      "  \u001b[31m   \u001b[0m Requirement already satisfied: cffi>=1.15.1 in ./venv/lib/python3.11/site-packages (from rpy2) (1.16.0)\n",
      "  \u001b[31m   \u001b[0m Requirement already satisfied: jinja2 in ./venv/lib/python3.11/site-packages (from rpy2) (3.1.3)\n",
      "  \u001b[31m   \u001b[0m Requirement already satisfied: tzlocal in ./venv/lib/python3.11/site-packages (from rpy2) (5.2)\n",
      "  \u001b[31m   \u001b[0m Requirement already satisfied: pycparser in ./venv/lib/python3.11/site-packages (from cffi>=1.15.1->rpy2) (2.22)\n",
      "  \u001b[31m   \u001b[0m Requirement already satisfied: MarkupSafe>=2.0 in ./venv/lib/python3.11/site-packages (from jinja2->rpy2) (2.1.5)\n",
      "  \u001b[31m   \u001b[0m Requirement already satisfied: setuptools in ./venv/lib/python3.11/site-packages (69.1.1)\n",
      "  \u001b[31m   \u001b[0m Unable to determine R home: [Errno 2] No such file or directory: 'R'\n",
      "  \u001b[31m   \u001b[0m Traceback (most recent call last):\n",
      "  \u001b[31m   \u001b[0m   File \"<string>\", line 2, in <module>\n",
      "  \u001b[31m   \u001b[0m   File \"<pip-setuptools-caller>\", line 34, in <module>\n",
      "  \u001b[31m   \u001b[0m   File \"/Users/t/Documents/Python_Packages/learningmachine/setup.py\", line 17, in <module>\n",
      "  \u001b[31m   \u001b[0m     from rpy2.robjects.packages import importr\n",
      "  \u001b[31m   \u001b[0m   File \"/Users/t/Documents/Python_Packages/learningmachine/venv/lib/python3.11/site-packages/rpy2/robjects/__init__.py\", line 21, in <module>\n",
      "  \u001b[31m   \u001b[0m     from rpy2.robjects.robject import RObjectMixin, RObject\n",
      "  \u001b[31m   \u001b[0m   File \"/Users/t/Documents/Python_Packages/learningmachine/venv/lib/python3.11/site-packages/rpy2/robjects/robject.py\", line 11, in <module>\n",
      "  \u001b[31m   \u001b[0m     rpy2.rinterface.initr_simple()\n",
      "  \u001b[31m   \u001b[0m   File \"/Users/t/Documents/Python_Packages/learningmachine/venv/lib/python3.11/site-packages/rpy2/rinterface.py\", line 1050, in initr_simple\n",
      "  \u001b[31m   \u001b[0m     status = embedded._initr()\n",
      "  \u001b[31m   \u001b[0m              ^^^^^^^^^^^^^^^^^\n",
      "  \u001b[31m   \u001b[0m   File \"/Users/t/Documents/Python_Packages/learningmachine/venv/lib/python3.11/site-packages/rpy2/rinterface_lib/embedded.py\", line 272, in _initr\n",
      "  \u001b[31m   \u001b[0m     raise ValueError('openrlib.R_HOME cannot be None.')\n",
      "  \u001b[31m   \u001b[0m ValueError: openrlib.R_HOME cannot be None.\n",
      "  \u001b[31m   \u001b[0m \u001b[31m[end of output]\u001b[0m\n",
      "  \n",
      "  \u001b[1;35mnote\u001b[0m: This error originates from a subprocess, and is likely not a problem with pip.\n",
      "\u001b[?25h\u001b[1;31merror\u001b[0m: \u001b[1mmetadata-generation-failed\u001b[0m\n",
      "\n",
      "\u001b[31m×\u001b[0m Encountered error while generating package metadata.\n",
      "\u001b[31m╰─>\u001b[0m See above for output.\n",
      "\n",
      "\u001b[1;35mnote\u001b[0m: This is an issue with the package mentioned above, not pip.\n",
      "\u001b[1;36mhint\u001b[0m: See above for details.\n"
     ]
    }
   ],
   "source": [
    "!pip install ../../ --upgrade --no-cache-dir"
   ]
  },
  {
   "cell_type": "markdown",
   "metadata": {},
   "source": [
    "# 1 - Classification"
   ]
  },
  {
   "cell_type": "code",
   "execution_count": 13,
   "metadata": {},
   "outputs": [
    {
     "ename": "ModuleNotFoundError",
     "evalue": "No module named 'learningmachine'",
     "output_type": "error",
     "traceback": [
      "\u001b[0;31m---------------------------------------------------------------------------\u001b[0m",
      "\u001b[0;31mModuleNotFoundError\u001b[0m                       Traceback (most recent call last)",
      "Cell \u001b[0;32mIn[13], line 1\u001b[0m\n\u001b[0;32m----> 1\u001b[0m \u001b[38;5;28;01mimport\u001b[39;00m \u001b[38;5;21;01mlearningmachine\u001b[39;00m \u001b[38;5;28;01mas\u001b[39;00m \u001b[38;5;21;01mlm\u001b[39;00m\n\u001b[1;32m      2\u001b[0m \u001b[38;5;28;01mimport\u001b[39;00m \u001b[38;5;21;01mnumpy\u001b[39;00m \u001b[38;5;28;01mas\u001b[39;00m \u001b[38;5;21;01mnp\u001b[39;00m\n\u001b[1;32m      4\u001b[0m \u001b[38;5;28;01mfrom\u001b[39;00m \u001b[38;5;21;01mmath\u001b[39;00m \u001b[38;5;28;01mimport\u001b[39;00m sqrt\n",
      "\u001b[0;31mModuleNotFoundError\u001b[0m: No module named 'learningmachine'"
     ]
    }
   ],
   "source": [
    "import learningmachine as lm\n",
    "import numpy as np\n",
    "\n",
    "from math import sqrt\n",
    "from sklearn.datasets import load_wine\n",
    "from sklearn.model_selection import train_test_split, cross_val_score\n",
    "from time import time\n",
    "\n",
    "\n",
    "fit_obj = lm.Classifier(method = \"ranger\", nb_hidden=0)\n",
    "dataset = load_wine()\n",
    "X = dataset.data\n",
    "y = dataset.target\n",
    "\n",
    "X_train, X_test, y_train, y_test = train_test_split(X, y, test_size=0.2, \n",
    "                                                    random_state=13)\n",
    "\n",
    "start = time()\n",
    "fit_obj.fit(X_train, y_train)\n",
    "print(\"Elapsed time: \", time() - start)\n",
    "\n",
    "print(dir(fit_obj))\n",
    "print(fit_obj.get_params())\n",
    "\n",
    "## Compute accuracy\n",
    "\n",
    "preds = fit_obj.predict(X_test)\n",
    "acc = np.mean(y_test == preds)\n",
    "print(acc)"
   ]
  },
  {
   "cell_type": "code",
   "execution_count": null,
   "metadata": {},
   "outputs": [
    {
     "name": "stdout",
     "output_type": "stream",
     "text": [
      "[0.94444444 0.94444444 0.97222222 1.         1.        ]\n"
     ]
    }
   ],
   "source": [
    "print(cross_val_score(fit_obj, X, y, cv=5, scoring='accuracy'))"
   ]
  }
 ],
 "metadata": {
  "kernelspec": {
   "display_name": "venv",
   "language": "python",
   "name": "python3"
  },
  "language_info": {
   "codemirror_mode": {
    "name": "ipython",
    "version": 3
   },
   "file_extension": ".py",
   "mimetype": "text/x-python",
   "name": "python",
   "nbconvert_exporter": "python",
   "pygments_lexer": "ipython3",
   "version": "3.11.8"
  }
 },
 "nbformat": 4,
 "nbformat_minor": 2
}
