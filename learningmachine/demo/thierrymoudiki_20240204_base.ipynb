{
 "cells": [
  {
   "cell_type": "code",
   "execution_count": null,
   "metadata": {},
   "outputs": [],
   "source": []
  },
  {
   "cell_type": "markdown",
   "metadata": {},
   "source": [
    "# Base (basic basic) models "
   ]
  },
  {
   "cell_type": "code",
   "execution_count": 36,
   "metadata": {},
   "outputs": [
    {
     "name": "stdout",
     "output_type": "stream",
     "text": [
      "Processing /Users/t/Documents/Python_Packages/learningmachine\n",
      "  Preparing metadata (setup.py) ... \u001b[?25ldone\n",
      "\u001b[?25hRequirement already satisfied: numpy in /Users/t/Documents/Python_Packages/learningmachine/venv/lib/python3.11/site-packages (from learningmachine==0.2.2) (1.26.3)\n",
      "Requirement already satisfied: pandas in /Users/t/Documents/Python_Packages/learningmachine/venv/lib/python3.11/site-packages (from learningmachine==0.2.2) (2.2.0)\n",
      "Requirement already satisfied: rpy2>=3.4.5 in /Users/t/Documents/Python_Packages/learningmachine/venv/lib/python3.11/site-packages (from learningmachine==0.2.2) (3.5.15)\n",
      "Requirement already satisfied: scikit-learn in /Users/t/Documents/Python_Packages/learningmachine/venv/lib/python3.11/site-packages (from learningmachine==0.2.2) (1.4.0)\n",
      "Requirement already satisfied: scipy in /Users/t/Documents/Python_Packages/learningmachine/venv/lib/python3.11/site-packages (from learningmachine==0.2.2) (1.12.0)\n",
      "Requirement already satisfied: cffi>=1.10.0 in /Users/t/Documents/Python_Packages/learningmachine/venv/lib/python3.11/site-packages (from rpy2>=3.4.5->learningmachine==0.2.2) (1.16.0)\n",
      "Requirement already satisfied: jinja2 in /Users/t/Documents/Python_Packages/learningmachine/venv/lib/python3.11/site-packages (from rpy2>=3.4.5->learningmachine==0.2.2) (3.1.3)\n",
      "Requirement already satisfied: tzlocal in /Users/t/Documents/Python_Packages/learningmachine/venv/lib/python3.11/site-packages (from rpy2>=3.4.5->learningmachine==0.2.2) (5.2)\n",
      "Requirement already satisfied: python-dateutil>=2.8.2 in /Users/t/Documents/Python_Packages/learningmachine/venv/lib/python3.11/site-packages (from pandas->learningmachine==0.2.2) (2.8.2)\n",
      "Requirement already satisfied: pytz>=2020.1 in /Users/t/Documents/Python_Packages/learningmachine/venv/lib/python3.11/site-packages (from pandas->learningmachine==0.2.2) (2024.1)\n",
      "Requirement already satisfied: tzdata>=2022.7 in /Users/t/Documents/Python_Packages/learningmachine/venv/lib/python3.11/site-packages (from pandas->learningmachine==0.2.2) (2023.4)\n",
      "Requirement already satisfied: joblib>=1.2.0 in /Users/t/Documents/Python_Packages/learningmachine/venv/lib/python3.11/site-packages (from scikit-learn->learningmachine==0.2.2) (1.3.2)\n",
      "Requirement already satisfied: threadpoolctl>=2.0.0 in /Users/t/Documents/Python_Packages/learningmachine/venv/lib/python3.11/site-packages (from scikit-learn->learningmachine==0.2.2) (3.2.0)\n",
      "Requirement already satisfied: pycparser in /Users/t/Documents/Python_Packages/learningmachine/venv/lib/python3.11/site-packages (from cffi>=1.10.0->rpy2>=3.4.5->learningmachine==0.2.2) (2.21)\n",
      "Requirement already satisfied: six>=1.5 in /Users/t/Documents/Python_Packages/learningmachine/venv/lib/python3.11/site-packages (from python-dateutil>=2.8.2->pandas->learningmachine==0.2.2) (1.16.0)\n",
      "Requirement already satisfied: MarkupSafe>=2.0 in /Users/t/Documents/Python_Packages/learningmachine/venv/lib/python3.11/site-packages (from jinja2->rpy2>=3.4.5->learningmachine==0.2.2) (2.1.5)\n",
      "Building wheels for collected packages: learningmachine\n",
      "  Building wheel for learningmachine (setup.py) ... \u001b[?25ldone\n",
      "\u001b[?25h  Created wheel for learningmachine: filename=learningmachine-0.2.2-py2.py3-none-any.whl size=6360 sha256=282abea343fb5521d60b74e9d45d24bb5fb76c7c3c85efe964290cbb397d73f4\n",
      "  Stored in directory: /private/var/folders/cp/q8d6040n3m38d22z3hkk1zc40000gn/T/pip-ephem-wheel-cache-aznssdxj/wheels/9a/f6/e6/eaa10bf6a267b052f59d805d728d7b3187f97daba3b58c2f1c\n",
      "Successfully built learningmachine\n",
      "Installing collected packages: learningmachine\n",
      "  Attempting uninstall: learningmachine\n",
      "    Found existing installation: learningmachine 0.2.2\n",
      "    Uninstalling learningmachine-0.2.2:\n",
      "      Successfully uninstalled learningmachine-0.2.2\n",
      "Successfully installed learningmachine-0.2.2\n",
      "\n",
      "\u001b[1m[\u001b[0m\u001b[34;49mnotice\u001b[0m\u001b[1;39;49m]\u001b[0m\u001b[39;49m A new release of pip is available: \u001b[0m\u001b[31;49m23.3.2\u001b[0m\u001b[39;49m -> \u001b[0m\u001b[32;49m24.0\u001b[0m\n",
      "\u001b[1m[\u001b[0m\u001b[34;49mnotice\u001b[0m\u001b[1;39;49m]\u001b[0m\u001b[39;49m To update, run: \u001b[0m\u001b[32;49mpip install --upgrade pip\u001b[0m\n"
     ]
    }
   ],
   "source": [
    "!pip install ../../ --upgrade --no-cache-dir"
   ]
  },
  {
   "cell_type": "markdown",
   "metadata": {},
   "source": [
    "# 1 - Classification"
   ]
  },
  {
   "cell_type": "code",
   "execution_count": 37,
   "metadata": {},
   "outputs": [
    {
     "name": "stdout",
     "output_type": "stream",
     "text": [
      "Elapsed time:  0.033627986907958984\n",
      "['__class__', '__delattr__', '__dict__', '__dir__', '__doc__', '__eq__', '__format__', '__ge__', '__getattribute__', '__getstate__', '__gt__', '__hash__', '__init__', '__init_subclass__', '__le__', '__lt__', '__module__', '__ne__', '__new__', '__reduce__', '__reduce_ex__', '__repr__', '__setattr__', '__setstate__', '__sizeof__', '__sklearn_clone__', '__str__', '__subclasshook__', '__weakref__', '_build_request_for_signature', '_check_feature_names', '_check_n_features', '_doc_link_module', '_doc_link_template', '_doc_link_url_param_generator', '_estimator_type', '_get_default_requests', '_get_doc_link', '_get_metadata_request', '_get_param_names', '_get_tags', '_more_tags', '_repr_html_', '_repr_html_inner', '_repr_mimebundle_', '_validate_data', '_validate_params', 'fit', 'get_metadata_routing', 'get_params', 'obj', 'predict', 'predict_proba', 'score', 'set_params', 'set_score_request', 'type']\n",
      "{}\n",
      "0.2777777777777778\n",
      "0.2777777777777778\n"
     ]
    }
   ],
   "source": [
    "import learningmachine as lm\n",
    "import numpy as np\n",
    "\n",
    "from math import sqrt\n",
    "from sklearn.datasets import load_wine\n",
    "from sklearn.model_selection import train_test_split, cross_val_score\n",
    "from time import time\n",
    "\n",
    "\n",
    "fit_obj = lm.BaseClassifier()\n",
    "dataset = load_wine()\n",
    "X = dataset.data\n",
    "y = dataset.target\n",
    "\n",
    "X_train, X_test, y_train, y_test = train_test_split(X, y, test_size=0.2, \n",
    "                                                    random_state=1213)\n",
    "\n",
    "start = time()\n",
    "fit_obj.fit(X_train, y_train)\n",
    "print(\"Elapsed time: \", time() - start)\n",
    "\n",
    "print(dir(fit_obj))\n",
    "print(fit_obj.get_params())\n",
    "\n",
    "## Compute accuracy\n",
    "\n",
    "preds = fit_obj.predict(X_test)\n",
    "acc = np.mean(y_test == preds)\n",
    "print(acc)\n",
    "\n",
    "print(fit_obj.score(X_test, y_test))"
   ]
  },
  {
   "cell_type": "code",
   "execution_count": null,
   "metadata": {},
   "outputs": [],
   "source": [
    "print(cross_val_score(fit_obj, X, y, cv=5, scoring='accuracy'))"
   ]
  },
  {
   "cell_type": "markdown",
   "metadata": {},
   "source": [
    "# 2 - Regression"
   ]
  },
  {
   "cell_type": "code",
   "execution_count": 39,
   "metadata": {},
   "outputs": [
    {
     "name": "stdout",
     "output_type": "stream",
     "text": [
      "Elapsed time:  0.009093761444091797\n",
      "['__class__', '__delattr__', '__dict__', '__dir__', '__doc__', '__eq__', '__format__', '__ge__', '__getattribute__', '__getstate__', '__gt__', '__hash__', '__init__', '__init_subclass__', '__le__', '__lt__', '__module__', '__ne__', '__new__', '__reduce__', '__reduce_ex__', '__repr__', '__setattr__', '__setstate__', '__sizeof__', '__sklearn_clone__', '__str__', '__subclasshook__', '__weakref__', '_build_request_for_signature', '_check_feature_names', '_check_n_features', '_doc_link_module', '_doc_link_template', '_doc_link_url_param_generator', '_estimator_type', '_get_default_requests', '_get_doc_link', '_get_metadata_request', '_get_param_names', '_get_tags', '_more_tags', '_repr_html_', '_repr_html_inner', '_repr_mimebundle_', '_validate_data', '_validate_params', 'fit', 'get_metadata_routing', 'get_params', 'obj', 'predict', 'score', 'set_params', 'set_score_request', 'type']\n",
      "{}\n",
      "317.04834982672674\n",
      "317.04834982672674\n"
     ]
    }
   ],
   "source": [
    "import learningmachine as lm\n",
    "import numpy as np\n",
    "\n",
    "from sklearn.datasets import load_diabetes\n",
    "from sklearn.model_selection import train_test_split, cross_val_score\n",
    "from time import time\n",
    "from sklearn.metrics import mean_squared_error\n",
    "\n",
    "\n",
    "# 1. Regression\n",
    "\n",
    "fit_obj = lm.BaseRegressor()\n",
    "diabetes = load_diabetes()\n",
    "X = diabetes.data[:150]\n",
    "y = diabetes.target[:150]\n",
    "\n",
    "X_train, X_test, y_train, y_test = train_test_split(X, y, test_size=0.2, \n",
    "                                                    random_state=1213)\n",
    "\n",
    "start = time()\n",
    "fit_obj.fit(X_train, y_train)\n",
    "print(\"Elapsed time: \", time() - start)\n",
    "\n",
    "print(dir(fit_obj))\n",
    "print(fit_obj.get_params())\n",
    "\n",
    "## Compute RMSE\n",
    "rms1 = sqrt(mean_squared_error(y_test, fit_obj.predict(X_test)))\n",
    "print(rms1)\n",
    "\n",
    "print(np.sqrt(fit_obj.score(X_test, y_test)))"
   ]
  },
  {
   "cell_type": "code",
   "execution_count": 40,
   "metadata": {},
   "outputs": [
    {
     "name": "stdout",
     "output_type": "stream",
     "text": [
      "[498.43214472 284.11151805 252.89105645 335.90878552 208.38622968]\n"
     ]
    }
   ],
   "source": [
    "print(np.sqrt(-cross_val_score(fit_obj, X, y, cv=5, scoring='neg_mean_squared_error')))"
   ]
  }
 ],
 "metadata": {
  "kernelspec": {
   "display_name": "venv",
   "language": "python",
   "name": "python3"
  },
  "language_info": {
   "codemirror_mode": {
    "name": "ipython",
    "version": 3
   },
   "file_extension": ".py",
   "mimetype": "text/x-python",
   "name": "python",
   "nbconvert_exporter": "python",
   "pygments_lexer": "ipython3",
   "version": "3.11.6"
  }
 },
 "nbformat": 4,
 "nbformat_minor": 2
}
