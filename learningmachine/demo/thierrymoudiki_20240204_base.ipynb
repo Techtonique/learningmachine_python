{
 "cells": [
  {
   "cell_type": "code",
   "execution_count": null,
   "metadata": {},
   "outputs": [],
   "source": []
  },
  {
   "cell_type": "markdown",
   "metadata": {},
   "source": [
    "# Base (basic basic) models "
   ]
  },
  {
   "cell_type": "code",
   "execution_count": 1,
   "metadata": {},
   "outputs": [
    {
     "name": "stdout",
     "output_type": "stream",
     "text": [
      "Processing /Users/t/Documents/Python_Packages/learningmachine\n",
      "  Preparing metadata (setup.py) ... \u001b[?25ldone\n",
      "\u001b[?25hRequirement already satisfied: numpy in /Users/t/Documents/Python_Packages/learningmachine/venv/lib/python3.11/site-packages (from learningmachine==1.1.0) (1.26.4)\n",
      "Requirement already satisfied: pandas in /Users/t/Documents/Python_Packages/learningmachine/venv/lib/python3.11/site-packages (from learningmachine==1.1.0) (2.2.1)\n",
      "Requirement already satisfied: rpy2>=3.4.5 in /Users/t/Documents/Python_Packages/learningmachine/venv/lib/python3.11/site-packages (from learningmachine==1.1.0) (3.5.15)\n",
      "Requirement already satisfied: scikit-learn in /Users/t/Documents/Python_Packages/learningmachine/venv/lib/python3.11/site-packages (from learningmachine==1.1.0) (1.4.1.post1)\n",
      "Requirement already satisfied: scipy in /Users/t/Documents/Python_Packages/learningmachine/venv/lib/python3.11/site-packages (from learningmachine==1.1.0) (1.12.0)\n",
      "Requirement already satisfied: cffi>=1.10.0 in /Users/t/Documents/Python_Packages/learningmachine/venv/lib/python3.11/site-packages (from rpy2>=3.4.5->learningmachine==1.1.0) (1.16.0)\n",
      "Requirement already satisfied: jinja2 in /Users/t/Documents/Python_Packages/learningmachine/venv/lib/python3.11/site-packages (from rpy2>=3.4.5->learningmachine==1.1.0) (3.1.3)\n",
      "Requirement already satisfied: tzlocal in /Users/t/Documents/Python_Packages/learningmachine/venv/lib/python3.11/site-packages (from rpy2>=3.4.5->learningmachine==1.1.0) (5.2)\n",
      "Requirement already satisfied: python-dateutil>=2.8.2 in /Users/t/Documents/Python_Packages/learningmachine/venv/lib/python3.11/site-packages (from pandas->learningmachine==1.1.0) (2.9.0.post0)\n",
      "Requirement already satisfied: pytz>=2020.1 in /Users/t/Documents/Python_Packages/learningmachine/venv/lib/python3.11/site-packages (from pandas->learningmachine==1.1.0) (2024.1)\n",
      "Requirement already satisfied: tzdata>=2022.7 in /Users/t/Documents/Python_Packages/learningmachine/venv/lib/python3.11/site-packages (from pandas->learningmachine==1.1.0) (2024.1)\n",
      "Requirement already satisfied: joblib>=1.2.0 in /Users/t/Documents/Python_Packages/learningmachine/venv/lib/python3.11/site-packages (from scikit-learn->learningmachine==1.1.0) (1.3.2)\n",
      "Requirement already satisfied: threadpoolctl>=2.0.0 in /Users/t/Documents/Python_Packages/learningmachine/venv/lib/python3.11/site-packages (from scikit-learn->learningmachine==1.1.0) (3.4.0)\n",
      "Requirement already satisfied: pycparser in /Users/t/Documents/Python_Packages/learningmachine/venv/lib/python3.11/site-packages (from cffi>=1.10.0->rpy2>=3.4.5->learningmachine==1.1.0) (2.21)\n",
      "Requirement already satisfied: six>=1.5 in /Users/t/Documents/Python_Packages/learningmachine/venv/lib/python3.11/site-packages (from python-dateutil>=2.8.2->pandas->learningmachine==1.1.0) (1.16.0)\n",
      "Requirement already satisfied: MarkupSafe>=2.0 in /Users/t/Documents/Python_Packages/learningmachine/venv/lib/python3.11/site-packages (from jinja2->rpy2>=3.4.5->learningmachine==1.1.0) (2.1.5)\n",
      "Building wheels for collected packages: learningmachine\n",
      "  Building wheel for learningmachine (setup.py) ... \u001b[?25ldone\n",
      "\u001b[?25h  Created wheel for learningmachine: filename=learningmachine-1.1.0-py2.py3-none-any.whl size=7692 sha256=5b632931a1560eea8483d3d71122b5b9f9eb7ef18f9efe3d40dc68b06803eca1\n",
      "  Stored in directory: /private/var/folders/cp/q8d6040n3m38d22z3hkk1zc40000gn/T/pip-ephem-wheel-cache-zn1ct3km/wheels/9a/f6/e6/eaa10bf6a267b052f59d805d728d7b3187f97daba3b58c2f1c\n",
      "Successfully built learningmachine\n",
      "Installing collected packages: learningmachine\n",
      "  Attempting uninstall: learningmachine\n",
      "    Found existing installation: learningmachine 1.1.0\n",
      "    Uninstalling learningmachine-1.1.0:\n",
      "      Successfully uninstalled learningmachine-1.1.0\n",
      "Successfully installed learningmachine-1.1.0\n"
     ]
    }
   ],
   "source": [
    "!pip install ../../ --upgrade --no-cache-dir"
   ]
  },
  {
   "cell_type": "markdown",
   "metadata": {},
   "source": [
    "# 1 - Classification"
   ]
  },
  {
   "cell_type": "code",
   "execution_count": 2,
   "metadata": {},
   "outputs": [
    {
     "name": "stderr",
     "output_type": "stream",
     "text": [
      "R[write to console]: Registered S3 method overwritten by 'quantmod':\n",
      "  method            from\n",
      "  as.zoo.data.frame zoo \n",
      "\n"
     ]
    },
    {
     "name": "stdout",
     "output_type": "stream",
     "text": [
      "Elapsed time:  1.7402896881103516\n",
      "['B', '__class__', '__delattr__', '__dict__', '__dir__', '__doc__', '__eq__', '__format__', '__ge__', '__getattribute__', '__getstate__', '__gt__', '__hash__', '__init__', '__init_subclass__', '__le__', '__lt__', '__module__', '__ne__', '__new__', '__reduce__', '__reduce_ex__', '__repr__', '__setattr__', '__setstate__', '__sizeof__', '__sklearn_clone__', '__str__', '__subclasshook__', '__weakref__', '_build_request_for_signature', '_check_feature_names', '_check_n_features', '_doc_link_module', '_doc_link_template', '_doc_link_url_param_generator', '_estimator_type', '_get_default_requests', '_get_doc_link', '_get_metadata_request', '_get_param_names', '_get_tags', '_more_tags', '_repr_html_', '_repr_html_inner', '_repr_mimebundle_', '_validate_data', '_validate_params', 'classes_', 'fit', 'get_metadata_routing', 'get_params', 'level', 'load_learningmachine', 'method', 'name', 'obj', 'params', 'pi_method', 'predict', 'score', 'seed', 'set_params', 'set_score_request', 'type', 'type_prediction_set']\n",
      "{'B': None, 'level': None, 'method': 'ranger', 'pi_method': None, 'seed': 123, 'type_prediction_set': 'score'}\n",
      "0.9722222222222222\n",
      "0.9722222222222222\n"
     ]
    }
   ],
   "source": [
    "import learningmachine as lm\n",
    "import numpy as np\n",
    "\n",
    "from math import sqrt\n",
    "from sklearn.datasets import load_wine\n",
    "from sklearn.model_selection import train_test_split, cross_val_score\n",
    "from time import time\n",
    "\n",
    "\n",
    "fit_obj = lm.Classifier(method = \"ranger\")\n",
    "dataset = load_wine()\n",
    "X = dataset.data\n",
    "y = dataset.target\n",
    "\n",
    "X_train, X_test, y_train, y_test = train_test_split(X, y, test_size=0.2, \n",
    "                                                    random_state=1213)\n",
    "\n",
    "start = time()\n",
    "fit_obj.fit(X_train, y_train)\n",
    "print(\"Elapsed time: \", time() - start)\n",
    "\n",
    "print(dir(fit_obj))\n",
    "print(fit_obj.get_params())\n",
    "\n",
    "## Compute accuracy\n",
    "\n",
    "preds = fit_obj.predict(X_test)\n",
    "acc = np.mean(y_test == preds)\n",
    "print(acc)\n",
    "\n",
    "print(fit_obj.score(X_test, y_test))"
   ]
  },
  {
   "cell_type": "code",
   "execution_count": 3,
   "metadata": {},
   "outputs": [
    {
     "name": "stdout",
     "output_type": "stream",
     "text": [
      "[0.94444444 0.94444444 0.94444444 1.         1.        ]\n"
     ]
    }
   ],
   "source": [
    "print(cross_val_score(fit_obj, X, y, cv=5, scoring='accuracy'))"
   ]
  },
  {
   "cell_type": "markdown",
   "metadata": {},
   "source": [
    "# 2 - Regression"
   ]
  },
  {
   "cell_type": "code",
   "execution_count": 4,
   "metadata": {},
   "outputs": [
    {
     "name": "stdout",
     "output_type": "stream",
     "text": [
      "Elapsed time:  0.06786918640136719\n",
      "['B', '__class__', '__delattr__', '__dict__', '__dir__', '__doc__', '__eq__', '__format__', '__ge__', '__getattribute__', '__getstate__', '__gt__', '__hash__', '__init__', '__init_subclass__', '__le__', '__lt__', '__module__', '__ne__', '__new__', '__reduce__', '__reduce_ex__', '__repr__', '__setattr__', '__setstate__', '__sizeof__', '__sklearn_clone__', '__str__', '__subclasshook__', '__weakref__', '_build_request_for_signature', '_check_feature_names', '_check_n_features', '_doc_link_module', '_doc_link_template', '_doc_link_url_param_generator', '_estimator_type', '_get_default_requests', '_get_doc_link', '_get_metadata_request', '_get_param_names', '_get_tags', '_more_tags', '_repr_html_', '_repr_html_inner', '_repr_mimebundle_', '_validate_data', '_validate_params', 'fit', 'get_metadata_routing', 'get_params', 'level', 'load_learningmachine', 'method', 'name', 'obj', 'params', 'pi_method', 'predict', 'score', 'seed', 'set_params', 'set_score_request', 'type', 'type_prediction_set']\n",
      "{'B': None, 'level': None, 'method': 'ranger', 'pi_method': None, 'seed': 123, 'type_prediction_set': 'score'}\n",
      "53.19889804613161\n",
      "53.19889804613161\n"
     ]
    }
   ],
   "source": [
    "import learningmachine as lm\n",
    "import numpy as np\n",
    "\n",
    "from sklearn.datasets import load_diabetes\n",
    "from sklearn.model_selection import train_test_split, cross_val_score\n",
    "from time import time\n",
    "from sklearn.metrics import mean_squared_error\n",
    "\n",
    "\n",
    "# 1. Regression\n",
    "\n",
    "fit_obj = lm.Regressor()\n",
    "diabetes = load_diabetes()\n",
    "X = diabetes.data[:150]\n",
    "y = diabetes.target[:150]\n",
    "\n",
    "X_train, X_test, y_train, y_test = train_test_split(X, y, test_size=0.2, \n",
    "                                                    random_state=1213)\n",
    "\n",
    "start = time()\n",
    "fit_obj.fit(X_train, y_train)\n",
    "print(\"Elapsed time: \", time() - start)\n",
    "\n",
    "print(dir(fit_obj))\n",
    "print(fit_obj.get_params())\n",
    "\n",
    "## Compute RMSE\n",
    "rms1 = sqrt(mean_squared_error(y_test, fit_obj.predict(X_test)))\n",
    "print(rms1)\n",
    "\n",
    "print(np.sqrt(fit_obj.score(X_test, y_test)))"
   ]
  },
  {
   "cell_type": "code",
   "execution_count": 5,
   "metadata": {},
   "outputs": [
    {
     "name": "stdout",
     "output_type": "stream",
     "text": [
      "[60.33607017 64.16332437 58.34525614 62.23295572 62.96894747]\n"
     ]
    }
   ],
   "source": [
    "print(np.sqrt(-cross_val_score(fit_obj, X, y, cv=5, scoring='neg_mean_squared_error')))"
   ]
  }
 ],
 "metadata": {
  "kernelspec": {
   "display_name": "venv",
   "language": "python",
   "name": "python3"
  },
  "language_info": {
   "codemirror_mode": {
    "name": "ipython",
    "version": 3
   },
   "file_extension": ".py",
   "mimetype": "text/x-python",
   "name": "python",
   "nbconvert_exporter": "python",
   "pygments_lexer": "ipython3",
   "version": "3.11.8"
  }
 },
 "nbformat": 4,
 "nbformat_minor": 2
}
